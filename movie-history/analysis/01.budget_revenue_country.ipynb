{
 "cells": [
  {
   "cell_type": "code",
   "execution_count": 0,
   "metadata": {
    "application/vnd.databricks.v1+cell": {
     "cellMetadata": {
      "byteLimit": 2048000,
      "rowLimit": 10000
     },
     "inputWidgets": {},
     "nuid": "90ebd044-47ea-4641-97b2-d55a46474933",
     "showTitle": false,
     "tableResultSettingsMap": {},
     "title": ""
    }
   },
   "outputs": [],
   "source": [
    "USE movie_gold;"
   ]
  },
  {
   "cell_type": "code",
   "execution_count": 0,
   "metadata": {
    "application/vnd.databricks.v1+cell": {
     "cellMetadata": {
      "byteLimit": 2048000,
      "rowLimit": 10000
     },
     "inputWidgets": {},
     "nuid": "35086f29-6d6e-4e84-bb75-4548afb1ea84",
     "showTitle": false,
     "tableResultSettingsMap": {},
     "title": ""
    }
   },
   "outputs": [],
   "source": [
    "select * from results_movie"
   ]
  },
  {
   "cell_type": "code",
   "execution_count": 0,
   "metadata": {
    "application/vnd.databricks.v1+cell": {
     "cellMetadata": {
      "byteLimit": 2048000,
      "rowLimit": 10000
     },
     "inputWidgets": {},
     "nuid": "2a569b98-143c-4ae9-8dd2-13f8ddee8615",
     "showTitle": false,
     "tableResultSettingsMap": {},
     "title": ""
    }
   },
   "outputs": [],
   "source": [
    "-- TOTAL (SUMA)\n",
    "SELECT country_name,\n",
    "       COUNT(country_name) AS total_movie,\n",
    "       SUM(budget) AS total_budget,\n",
    "       SUM(revenue) AS total_revenue\n",
    "FROM results_movie\n",
    "GROUP BY country_name\n",
    "ORDER BY total_revenue DESC;"
   ]
  },
  {
   "cell_type": "code",
   "execution_count": 0,
   "metadata": {
    "application/vnd.databricks.v1+cell": {
     "cellMetadata": {
      "byteLimit": 2048000,
      "rowLimit": 10000
     },
     "inputWidgets": {},
     "nuid": "d781ddad-c2c5-4634-b584-5261d4c6bd14",
     "showTitle": false,
     "tableResultSettingsMap": {},
     "title": ""
    }
   },
   "outputs": [],
   "source": [
    "--PROMEDIO + FORMATEAR DECIMAL USAR FUNCTIONS DE CONVERSION DE DATOS \" CAST \" \n",
    "SELECT country_name,\n",
    "       COUNT(country_name) AS total_movie,\n",
    "       SUM(budget) AS total_budget,\n",
    "       CAST(AVG(budget) AS DECIMAL (18,2)) AS avg_budget,\n",
    "       SUM(revenue) AS total_revenue,\n",
    "       CAST(AVG(revenue) AS DECIMAL (18,2)) AS avg_revenue\n",
    "FROM results_movie\n",
    "GROUP BY country_name\n",
    "ORDER BY total_revenue DESC;"
   ]
  },
  {
   "cell_type": "code",
   "execution_count": 0,
   "metadata": {
    "application/vnd.databricks.v1+cell": {
     "cellMetadata": {
      "byteLimit": 2048000,
      "rowLimit": 10000
     },
     "inputWidgets": {},
     "nuid": "8dae1fa6-c5e3-4686-b7ef-e8153c0b5c09",
     "showTitle": false,
     "tableResultSettingsMap": {},
     "title": ""
    }
   },
   "outputs": [],
   "source": [
    "--FILTROS CON RANGOS DE FECHA \n",
    "SELECT country_name,\n",
    "       COUNT(country_name) AS total_movie,\n",
    "       SUM(budget) AS total_budget,\n",
    "       CAST(AVG(budget) AS DECIMAL (18,2)) AS avg_budget,\n",
    "       SUM(revenue) AS total_revenue,\n",
    "       CAST(AVG(revenue) AS DECIMAL (18,2)) AS avg_revenue\n",
    "FROM results_movie\n",
    "WHERE year_release_date BETWEEN 2010 and 2015\n",
    "GROUP BY country_name\n",
    "ORDER BY total_revenue DESC;"
   ]
  }
 ],
 "metadata": {
  "application/vnd.databricks.v1+notebook": {
   "computePreferences": null,
   "dashboards": [],
   "environmentMetadata": {
    "base_environment": "",
    "environment_version": "3"
   },
   "inputWidgetPreferences": null,
   "language": "sql",
   "notebookMetadata": {
    "pythonIndentUnit": 4
   },
   "notebookName": "01.budget_revenue_country",
   "widgets": {}
  },
  "language_info": {
   "name": "sql"
  }
 },
 "nbformat": 4,
 "nbformat_minor": 0
}
