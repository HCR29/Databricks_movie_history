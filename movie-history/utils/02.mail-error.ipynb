{
 "cells": [
  {
   "cell_type": "code",
   "execution_count": 0,
   "metadata": {
    "application/vnd.databricks.v1+cell": {
     "cellMetadata": {
      "byteLimit": 2048000,
      "rowLimit": 10000
     },
     "inputWidgets": {},
     "nuid": "3f92204c-13bd-460a-a860-e06a48d09f48",
     "showTitle": false,
     "tableResultSettingsMap": {},
     "title": ""
    }
   },
   "outputs": [],
   "source": [
    "import smtplib\n",
    "from email.mime.text import MIMEText\n",
    "\n",
    "subject = 'Pipeline Error _hcr'\n",
    "body = 'El proceso Pipeline ha caido en error debido a que no se encontro la carpeta'\n",
    "sender = 'hebertchr95@gmail.com'\n",
    "my_password = 'kibiztnikifmqcgm'\n",
    "recipients = [sender]\n",
    "\n",
    "def send_mail(subject, body, sender, recipients):\n",
    "    msg = MIMEText(body)\n",
    "    msg['subject'] = subject\n",
    "    msg['From'] = sender\n",
    "    msg['To'] = ', '.join(recipients)\n",
    "\n",
    "    with smtplib.SMTP_SSL('smtp.gmail.com', 465) as smtp_server:\n",
    "        smtp_server.login(sender, my_password)\n",
    "        smtp_server.sendmail(sender, recipients, msg.as_string())\n",
    "    print(\"Message sent!\")\n",
    "\n",
    "send_mail(subject, body, sender, recipients)"
   ]
  }
 ],
 "metadata": {
  "application/vnd.databricks.v1+notebook": {
   "computePreferences": null,
   "dashboards": [],
   "environmentMetadata": {
    "base_environment": "",
    "environment_version": "4"
   },
   "inputWidgetPreferences": null,
   "language": "python",
   "notebookMetadata": {
    "pythonIndentUnit": 4
   },
   "notebookName": "02.mail-error",
   "widgets": {}
  },
  "language_info": {
   "name": "python"
  }
 },
 "nbformat": 4,
 "nbformat_minor": 0
}
